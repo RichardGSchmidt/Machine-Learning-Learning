{
 "cells": [
  {
   "metadata": {},
   "cell_type": "markdown",
   "source": "# Vector Arithmetic",
   "id": "8a77807f92f26ee"
  },
  {
   "metadata": {
    "ExecuteTime": {
     "end_time": "2025-07-10T22:13:38.092171Z",
     "start_time": "2025-07-10T22:13:38.089236Z"
    }
   },
   "cell_type": "code",
   "source": "import numpy as np",
   "id": "fbc121e30a2defb3",
   "outputs": [],
   "execution_count": 14
  },
  {
   "metadata": {
    "ExecuteTime": {
     "end_time": "2025-07-10T22:13:38.107016Z",
     "start_time": "2025-07-10T22:13:38.104910Z"
    }
   },
   "cell_type": "code",
   "source": [
    "a = np.array([20,40,60])\n",
    "b = np.array([10,20,30])\n",
    "c = np.array([5,10,15,20])"
   ],
   "id": "435fb53ead4c14fa",
   "outputs": [],
   "execution_count": 15
  },
  {
   "metadata": {},
   "cell_type": "markdown",
   "source": "## Vector Addition / Subtraction",
   "id": "584da4a605a5e2a6"
  },
  {
   "metadata": {
    "ExecuteTime": {
     "end_time": "2025-07-10T22:13:38.119685Z",
     "start_time": "2025-07-10T22:13:38.117175Z"
    }
   },
   "cell_type": "code",
   "source": "a+b",
   "id": "222ff77e537226ee",
   "outputs": [
    {
     "data": {
      "text/plain": [
       "array([30, 60, 90])"
      ]
     },
     "execution_count": 16,
     "metadata": {},
     "output_type": "execute_result"
    }
   ],
   "execution_count": 16
  },
  {
   "metadata": {},
   "cell_type": "markdown",
   "source": "Dimensional mismatches cause errors:",
   "id": "cfc3abd83ab2ddf5"
  },
  {
   "metadata": {
    "ExecuteTime": {
     "end_time": "2025-07-10T22:13:38.149738Z",
     "start_time": "2025-07-10T22:13:38.139339Z"
    }
   },
   "cell_type": "code",
   "source": "a+c",
   "id": "f4c057a480169ca9",
   "outputs": [
    {
     "ename": "ValueError",
     "evalue": "operands could not be broadcast together with shapes (3,) (4,) ",
     "output_type": "error",
     "traceback": [
      "\u001B[31m---------------------------------------------------------------------------\u001B[39m",
      "\u001B[31mValueError\u001B[39m                                Traceback (most recent call last)",
      "\u001B[36mCell\u001B[39m\u001B[36m \u001B[39m\u001B[32mIn[17]\u001B[39m\u001B[32m, line 1\u001B[39m\n\u001B[32m----> \u001B[39m\u001B[32m1\u001B[39m a+c\n",
      "\u001B[31mValueError\u001B[39m: operands could not be broadcast together with shapes (3,) (4,) "
     ]
    }
   ],
   "execution_count": 17
  },
  {
   "metadata": {
    "ExecuteTime": {
     "end_time": "2025-07-10T22:13:38.151921Z",
     "start_time": "2025-07-10T22:13:06.683626Z"
    }
   },
   "cell_type": "code",
   "source": "a-b",
   "id": "57702f640c733e71",
   "outputs": [
    {
     "data": {
      "text/plain": [
       "array([10, 20, 30])"
      ]
     },
     "execution_count": 12,
     "metadata": {},
     "output_type": "execute_result"
    }
   ],
   "execution_count": 12
  },
  {
   "metadata": {},
   "cell_type": "markdown",
   "source": "## Vector Multiplication / Division",
   "id": "b7d7aff051c2b833"
  },
  {
   "metadata": {
    "ExecuteTime": {
     "end_time": "2025-07-10T22:13:42.564072Z",
     "start_time": "2025-07-10T22:13:42.561251Z"
    }
   },
   "cell_type": "code",
   "source": "a*b",
   "id": "f0a2ee22ec307da7",
   "outputs": [
    {
     "data": {
      "text/plain": [
       "array([ 200,  800, 1800])"
      ]
     },
     "execution_count": 18,
     "metadata": {},
     "output_type": "execute_result"
    }
   ],
   "execution_count": 18
  },
  {
   "metadata": {
    "ExecuteTime": {
     "end_time": "2025-07-10T22:13:50.027879Z",
     "start_time": "2025-07-10T22:13:50.022925Z"
    }
   },
   "cell_type": "code",
   "source": "a/b",
   "id": "b6df0cd7111d3a58",
   "outputs": [
    {
     "data": {
      "text/plain": [
       "array([2., 2., 2.])"
      ]
     },
     "execution_count": 20,
     "metadata": {},
     "output_type": "execute_result"
    }
   ],
   "execution_count": 20
  },
  {
   "metadata": {
    "ExecuteTime": {
     "end_time": "2025-07-10T22:13:38.159611Z",
     "start_time": "2025-07-10T22:13:34.435590Z"
    }
   },
   "cell_type": "code",
   "source": "",
   "id": "e2289785309509b8",
   "outputs": [],
   "execution_count": null
  },
  {
   "metadata": {},
   "cell_type": "code",
   "outputs": [],
   "execution_count": null,
   "source": "",
   "id": "df03ec3383263e9d"
  }
 ],
 "metadata": {
  "kernelspec": {
   "display_name": "Python 3",
   "language": "python",
   "name": "python3"
  },
  "language_info": {
   "codemirror_mode": {
    "name": "ipython",
    "version": 2
   },
   "file_extension": ".py",
   "mimetype": "text/x-python",
   "name": "python",
   "nbconvert_exporter": "python",
   "pygments_lexer": "ipython2",
   "version": "2.7.6"
  }
 },
 "nbformat": 4,
 "nbformat_minor": 5
}
