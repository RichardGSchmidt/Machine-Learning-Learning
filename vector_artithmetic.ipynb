{
 "cells": [
  {
   "metadata": {},
   "cell_type": "markdown",
   "source": "# Vector Arithmetic",
   "id": "8a77807f92f26ee"
  },
  {
   "metadata": {
    "ExecuteTime": {
     "end_time": "2025-07-10T22:21:21.119580Z",
     "start_time": "2025-07-10T22:21:21.115700Z"
    }
   },
   "cell_type": "code",
   "source": "import numpy as np",
   "id": "fbc121e30a2defb3",
   "outputs": [],
   "execution_count": 35
  },
  {
   "metadata": {
    "ExecuteTime": {
     "end_time": "2025-07-10T22:21:21.135437Z",
     "start_time": "2025-07-10T22:21:21.133551Z"
    }
   },
   "cell_type": "code",
   "source": [
    "a = np.array([20,40,60])\n",
    "b = np.array([10,20,30])\n",
    "c = np.array([5,10,15,20])"
   ],
   "id": "435fb53ead4c14fa",
   "outputs": [],
   "execution_count": 36
  },
  {
   "metadata": {},
   "cell_type": "markdown",
   "source": "## Vector Addition / Subtraction",
   "id": "584da4a605a5e2a6"
  },
  {
   "metadata": {
    "ExecuteTime": {
     "end_time": "2025-07-10T22:21:21.144626Z",
     "start_time": "2025-07-10T22:21:21.141839Z"
    }
   },
   "cell_type": "code",
   "source": "a+b",
   "id": "222ff77e537226ee",
   "outputs": [
    {
     "data": {
      "text/plain": [
       "array([30, 60, 90])"
      ]
     },
     "execution_count": 37,
     "metadata": {},
     "output_type": "execute_result"
    }
   ],
   "execution_count": 37
  },
  {
   "metadata": {},
   "cell_type": "markdown",
   "source": "Dimensional mismatches cause errors:",
   "id": "cfc3abd83ab2ddf5"
  },
  {
   "metadata": {
    "ExecuteTime": {
     "end_time": "2025-07-10T22:21:21.156095Z",
     "start_time": "2025-07-10T22:21:21.154397Z"
    }
   },
   "cell_type": "code",
   "source": "# a+c",
   "id": "f4c057a480169ca9",
   "outputs": [],
   "execution_count": 38
  },
  {
   "metadata": {
    "ExecuteTime": {
     "end_time": "2025-07-10T22:21:21.165015Z",
     "start_time": "2025-07-10T22:21:21.162578Z"
    }
   },
   "cell_type": "code",
   "source": "a-b",
   "id": "57702f640c733e71",
   "outputs": [
    {
     "data": {
      "text/plain": [
       "array([10, 20, 30])"
      ]
     },
     "execution_count": 39,
     "metadata": {},
     "output_type": "execute_result"
    }
   ],
   "execution_count": 39
  },
  {
   "metadata": {},
   "cell_type": "markdown",
   "source": "## Vector Multiplication / Division",
   "id": "b7d7aff051c2b833"
  },
  {
   "metadata": {
    "ExecuteTime": {
     "end_time": "2025-07-10T22:21:21.176686Z",
     "start_time": "2025-07-10T22:21:21.174084Z"
    }
   },
   "cell_type": "code",
   "source": "a*b",
   "id": "f0a2ee22ec307da7",
   "outputs": [
    {
     "data": {
      "text/plain": [
       "array([ 200,  800, 1800])"
      ]
     },
     "execution_count": 40,
     "metadata": {},
     "output_type": "execute_result"
    }
   ],
   "execution_count": 40
  },
  {
   "metadata": {
    "ExecuteTime": {
     "end_time": "2025-07-10T22:21:21.186962Z",
     "start_time": "2025-07-10T22:21:21.184615Z"
    }
   },
   "cell_type": "code",
   "source": "a/b",
   "id": "b6df0cd7111d3a58",
   "outputs": [
    {
     "data": {
      "text/plain": [
       "array([2., 2., 2.])"
      ]
     },
     "execution_count": 41,
     "metadata": {},
     "output_type": "execute_result"
    }
   ],
   "execution_count": 41
  },
  {
   "metadata": {},
   "cell_type": "markdown",
   "source": "## np.arrays are distinct from regular arrays in Python:",
   "id": "e45f6f31f0d16bc0"
  },
  {
   "metadata": {
    "ExecuteTime": {
     "end_time": "2025-07-10T22:21:21.195039Z",
     "start_time": "2025-07-10T22:21:21.193215Z"
    }
   },
   "cell_type": "code",
   "source": [
    "# For a given scalar\n",
    "scalar=2"
   ],
   "id": "e2289785309509b8",
   "outputs": [],
   "execution_count": 42
  },
  {
   "metadata": {
    "ExecuteTime": {
     "end_time": "2025-07-10T22:21:21.203325Z",
     "start_time": "2025-07-10T22:21:21.201328Z"
    }
   },
   "cell_type": "code",
   "source": [
    "# With a python list\n",
    "list_a = [10,11,12,13,14,15]\n",
    "print(list_a)"
   ],
   "id": "fdce57bd34a2b3b3",
   "outputs": [
    {
     "name": "stdout",
     "output_type": "stream",
     "text": [
      "[10, 11, 12, 13, 14, 15]\n"
     ]
    }
   ],
   "execution_count": 43
  },
  {
   "metadata": {
    "ExecuteTime": {
     "end_time": "2025-07-10T22:21:21.213780Z",
     "start_time": "2025-07-10T22:21:21.211802Z"
    }
   },
   "cell_type": "code",
   "source": [
    "# And the same list as a np.array\n",
    "list_as_array = np.array(list_a)\n",
    "print(list_as_array)"
   ],
   "id": "15a2d0a46cc12b1e",
   "outputs": [
    {
     "name": "stdout",
     "output_type": "stream",
     "text": [
      "[10 11 12 13 14 15]\n"
     ]
    }
   ],
   "execution_count": 44
  },
  {
   "metadata": {},
   "cell_type": "markdown",
   "source": "### Multiplying the python list multiplies the amount of elements",
   "id": "4e62d886cb887dbf"
  },
  {
   "metadata": {
    "ExecuteTime": {
     "end_time": "2025-07-10T22:21:52.701546Z",
     "start_time": "2025-07-10T22:21:52.697170Z"
    }
   },
   "cell_type": "code",
   "source": "scalar * list_a",
   "id": "5104f66908a8e53b",
   "outputs": [
    {
     "data": {
      "text/plain": [
       "[10, 11, 12, 13, 14, 15, 10, 11, 12, 13, 14, 15]"
      ]
     },
     "execution_count": 45,
     "metadata": {},
     "output_type": "execute_result"
    }
   ],
   "execution_count": 45
  },
  {
   "metadata": {},
   "cell_type": "markdown",
   "source": "### Multiplying the np.array by a scalar mutliplies each value by the scalar.",
   "id": "ad760b079ad89a6e"
  },
  {
   "metadata": {
    "ExecuteTime": {
     "end_time": "2025-07-10T22:22:07.924217Z",
     "start_time": "2025-07-10T22:22:07.919998Z"
    }
   },
   "cell_type": "code",
   "source": "scalar * list_as_array",
   "id": "7f03e72d8db347c2",
   "outputs": [
    {
     "data": {
      "text/plain": [
       "array([20, 22, 24, 26, 28, 30])"
      ]
     },
     "execution_count": 46,
     "metadata": {},
     "output_type": "execute_result"
    }
   ],
   "execution_count": 46
  }
 ],
 "metadata": {
  "kernelspec": {
   "display_name": "Python 3",
   "language": "python",
   "name": "python3"
  },
  "language_info": {
   "codemirror_mode": {
    "name": "ipython",
    "version": 2
   },
   "file_extension": ".py",
   "mimetype": "text/x-python",
   "name": "python",
   "nbconvert_exporter": "python",
   "pygments_lexer": "ipython2",
   "version": "2.7.6"
  }
 },
 "nbformat": 4,
 "nbformat_minor": 5
}
